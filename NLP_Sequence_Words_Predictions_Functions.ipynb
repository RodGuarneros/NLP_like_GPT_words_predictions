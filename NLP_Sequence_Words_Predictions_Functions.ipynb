{
 "cells": [
  {
   "cell_type": "markdown",
   "id": "860ec1de-81ca-47e1-8a22-472a026d9fa7",
   "metadata": {},
   "source": [
    "# **Sequence of words predictions**\n",
    "\n",
    "## The basics of Natural Language Model to understand ChatGPT\n",
    "\n",
    "## ***By Rodrigo Guarneros Gutiérrez***"
   ]
  },
  {
   "cell_type": "markdown",
   "id": "b9c16594-8a98-4909-bc7b-3aa81eeeedeb",
   "metadata": {},
   "source": [
    "<span style=\"color:DarkGreen; font-size: 30px;\">Introducción</span>\n",
    "\n",
    "De acuerdo con nuestra referencia principal Manning, C. & Schütze (1999), una oración (nuestro elemento lingüistico básico para el ejercicio de análisis) se define como algo que termina regularmente con los signos de puntuación \".\", \"?\" o \"!\". Teniendo cuidado de lo que implican algunos puntos que se utilizan en abreviaturas o puntos suspensivos. Sin embargo, a pesar de esta salvedad se ha demostrado que esta clasificación básica de las oraciones, el 90% de los puntos en un texto son indicadores de límite de las oraciones, de acuerdo con Riley (1989). De acuerdo con Manning y Shütze, existen otras salvedades de las que hay que estar conscientes como sería el caso de \";\", \":\" y \"-\", y que podrían ser pensados como sentencias por si mismas.\n",
    "\n",
    "En esta ocasión, se realiza el siguiente desarrollo:\n",
    "\n",
    "1. **Obtener la información:** Abriendo el archivo que ECMAScript o JavaScript.\n",
    "2. **Normalizar la información:** Con base en las recomendaciones realizadas y teniendo cuidado de no eliminar aquellos symbolos que de acuerdo a la literatura se consideran como límites de las oraciones, conforme a lo señalado en el primer párrafo de esta introducción.\n",
    "3. **Crear el modelo:** Para ello se parte de la caja de herramientas para lenguaje natural de Python denominada (NLTK, por sus siglas en inglés). Para mayor información diríjase a la sección final de este notebook.\n",
    "Para este punto:\n",
    "    - Se crea un directorio para las probabilidades y otra para las frecuencias de cada bigrama\n",
    "    - Se utiliza la función defaultdict utiliza los valores de cada lista para hacer un diccionario\n",
    "    - Para excluir los markadores de cada oración del cálculo de probabilidades se filtra por bigrama, recordemos que la función sent_tokenize identifica las oraciones en el texto y genera los marcadores, que no deben considerarse para el cálculo de probabilidades.\n",
    "    - Se cuentan los bigramas (C(xy)) y la primera palabra de los bigramas (C(x))\n",
    "    - Se crea el diccionario\n",
    "    - Se calcula la probabilidad de cada bigrama como p(x|y) = C(xy)/c(x)\n",
    "    - Se calculan las probabilidades (es hasta este punto donde se modifica un poco la fórmula para hacer un suavizamiento de acuerdo a Laplace)\n",
    "    - Se comparan los modelos con y sin suavizamiento de Laplace.\n",
    "4. **Almacenar las probabilidades resultado de cada modelo:** La serialización binaria de las probabilidades hizo más rápida su consulta en el siguiente paso (Gracias).\n",
    "5. **Crear la función con una interacción:** Se trata de una función que le pregunta al usuario sobre la palabra que se busca y rankea las 5 palabras más importantes, en función de su probabilidad conjunta.\n"
   ]
  },
  {
   "cell_type": "markdown",
   "id": "a4eca09b-17e6-4f3e-bfda-f0ab7dda15f5",
   "metadata": {},
   "source": [
    "<span style=\"color:DarkGreen; font-size: 30px;\">Desarrollo</span>"
   ]
  },
  {
   "cell_type": "markdown",
   "id": "289ef51b-1b1d-4118-8cf3-2d5c711e74c3",
   "metadata": {},
   "source": [
    "<span style=\"color:Blue; font-size: 30px;\">1. 1. Calcular los modelos de probabilidad MLE y MLE con suavizado de Laplace para un modelo de bigramas. Con el corpus \"europarl.es\"</span>\n",
    "\n",
    "Para el preprocesamiento de datos:\n",
    "\n",
    "* Como son documentos oficiales, los datos están bien escritos\n",
    "* Convertir a minúsculas, borrar puntuación y usar marcadores de inicio y fin de oración, para facilidad del ejercicio considerar cada línea como una oración sin necesidad de encontrar las oraciones por cada párrafo."
   ]
  },
  {
   "cell_type": "code",
   "execution_count": 1,
   "id": "06a6dc4c-cf5d-45fb-88da-870fae2e037a",
   "metadata": {},
   "outputs": [],
   "source": [
    "# Dependencias: \n",
    "import io\n",
    "import os\n",
    "import pandas as pd\n",
    "from collections import Counter\n",
    "import pandas as pd\n",
    "import matplotlib.pyplot as plt\n",
    "import seaborn as sn\n",
    "import unicodedata\n",
    "import math\n",
    "import seaborn as sns\n",
    "import numpy as np\n",
    "import nltk\n",
    "import string\n",
    "import pickle\n",
    "from scipy.stats import rankdata"
   ]
  },
  {
   "cell_type": "markdown",
   "id": "abf63af6-5e84-4ab8-a819-f781164089a0",
   "metadata": {},
   "source": [
    "### 1. Obteniendo la información"
   ]
  },
  {
   "cell_type": "code",
   "execution_count": 2,
   "id": "460c8455-cb61-416a-84df-d0af8c0be74a",
   "metadata": {},
   "outputs": [
    {
     "name": "stdout",
     "output_type": "stream",
     "text": [
      "Procesando y obteniendo una muestra de los primeros 500 elementos...\n",
      "declaro reanudado el período de sesiones del parlamento europeo , interrumpido el viernes 17 de diciembre pasado , y reitero a sus señorías mi deseo de que hayan tenido unas buenas vacaciones .\n",
      "como todos han podido comprobar , el gran `` efecto del año 2000 '' no se ha producido . en cambio , los ciudadanos de varios de nuestros países han sido víctimas de catástrofes naturales verdaderamente terribles .\n",
      "sus señorías han solicitado un debate sobre el tema para los próximos días , en el curso de\n",
      "El archivo contiene 15891924 letras\n",
      "El archivo tiene una extensión de 15.7962080078125 MB\n"
     ]
    }
   ],
   "source": [
    "\n",
    "# Abriendo el archivo que ECMAScript o JavaScript\n",
    "with open('europarl.es', 'r', encoding='utf-8') as archivo:\n",
    "    # leer el contenido del archivo\n",
    "    contenido = archivo.read()\n",
    "\n",
    "# Print el contenido del archivo\n",
    "print('Procesando y obteniendo una muestra de los primeros 500 elementos...')\n",
    "print(contenido[0:500])\n",
    "# Print la extensión del archivo\n",
    "print(f'El archivo contiene {len(contenido)} letras')\n",
    "file_size = os.path.getsize('europarl.es')\n",
    "print(f'El archivo tiene una extensión de {file_size/1024000} MB')"
   ]
  },
  {
   "cell_type": "markdown",
   "id": "a229b3a9-20b0-4e97-bc77-1e583f05517f",
   "metadata": {},
   "source": [
    "### 2. Convertir a minúsculas, borrar puntuación y usar marcadores de inicio y fin de oración, para facilidad del ejercicio considerar cada línea como una oración sin necesidad de encontrar las oraciones por cada párrafo."
   ]
  },
  {
   "cell_type": "code",
   "execution_count": 3,
   "id": "2335eb66-0df3-4ab3-94ab-398d1e5add37",
   "metadata": {},
   "outputs": [
    {
     "data": {
      "text/plain": [
       "\"declaro reanudado el periodo de sesiones del parlamento europeo , interrumpido el viernes 17 de diciembre pasado , y reitero a sus senorias mi deseo de que hayan tenido unas buenas vacaciones .\\ncomo todos han podido comprobar , el gran `` efecto del ano 2000 '' no se ha producido . en cambio , los ciudadanos de varios de nuestros paises han sido victimas de catastrofes naturales verdaderamente terribles .\\nsus senorias han solicitado un debate sobre el tema para los proximos dias , en el curso de\""
      ]
     },
     "execution_count": 3,
     "metadata": {},
     "output_type": "execute_result"
    }
   ],
   "source": [
    "# considerar todos los símbolos y convertir el texto a minúsculas\n",
    "# Acentos\n",
    "# Creamos la función para remover acentos, tal y como se presenta en la clase MCDI-PI-02.\n",
    "\n",
    "def remove_accents(input_str):\n",
    "    nfkd_form = unicodedata.normalize('NFKD', input_str)\n",
    "    return u\"\".join([c for c in nfkd_form if not unicodedata.combining(c)])\n",
    "\n",
    "elementos_totales = len(contenido)\n",
    "string_no_acentos = remove_accents(contenido)\n",
    "string_no_acentos[:500] # confirmar eliminación de acentos."
   ]
  },
  {
   "cell_type": "markdown",
   "id": "d40f7b25-ef7b-40fe-8ab2-34f657c7a51c",
   "metadata": {},
   "source": [
    "### 3. Normalicemos las mayúsculas"
   ]
  },
  {
   "cell_type": "code",
   "execution_count": 4,
   "id": "b1440580-0cbf-4f28-8cec-4a22558786f3",
   "metadata": {},
   "outputs": [
    {
     "data": {
      "text/plain": [
       "\"declaro reanudado el periodo de sesiones del parlamento europeo , interrumpido el viernes 17 de diciembre pasado , y reitero a sus senorias mi deseo de que hayan tenido unas buenas vacaciones .\\ncomo todos han podido comprobar , el gran `` efecto del ano 2000 '' no se ha producido . en cambio , los ciudadanos de varios de nuestros paises han sido victimas de catastrofes naturales verdaderamente terribles .\\nsus senorias han solicitado un debate sobre el tema para los proximos dias , en el curso de\""
      ]
     },
     "execution_count": 4,
     "metadata": {},
     "output_type": "execute_result"
    }
   ],
   "source": [
    "# parece que ya fue normalizado el texto para incluir sólo minúsculas, pero vamos a normalizar nuevamente\n",
    "string_no_acentos_minusc = string_no_acentos.lower()\n",
    "string_no_acentos_minusc[:500]"
   ]
  },
  {
   "cell_type": "markdown",
   "id": "f46b0f68-13b1-42eb-be1f-0478df6f4c9a",
   "metadata": {},
   "source": [
    "### 4. Búsqueda de símbolos y eliminación"
   ]
  },
  {
   "cell_type": "code",
   "execution_count": 5,
   "id": "67f654b6-a045-477e-8d6b-c8f4a1aecdc6",
   "metadata": {},
   "outputs": [
    {
     "name": "stdout",
     "output_type": "stream",
     "text": [
      "['d', 'e', 'c', 'l', 'a', 'r', 'o', ' ', 'n', 'u', 'p', 'i', 's', 'm', 't', ',', 'v', '1', '7', 'b', 'y', 'q', 'h', '.', '\\n', 'g', '`', 'f', '2', '0', \"'\", 'x', 'z', '-', 'k', '¿', '?', '4', '3', 'j', '6', '9', '8', ':', ';', '5', '/', 'w', '%', '\"', '¡', '!', 'ø', '«', '»', '\\xad', '+', 'μ', 'æ', 'ß', '_', '·', 'ð', '&', '=']\n"
     ]
    }
   ],
   "source": [
    "\n",
    "# Contemos cada carácter de cada texto en nuestra lista maestra para verificar qué símbolos tenemos.\n",
    "\n",
    "string_lista_acentos_dic = Counter(string_no_acentos_minusc)\n",
    "simbolos_en_string = list(string_lista_acentos_dic.keys())\n",
    "print(simbolos_en_string)"
   ]
  },
  {
   "cell_type": "code",
   "execution_count": 6,
   "id": "eb4779fc-4971-42c7-9b07-5c7a2b177430",
   "metadata": {},
   "outputs": [
    {
     "name": "stdout",
     "output_type": "stream",
     "text": [
      "declaro reanudado el periodo de sesiones del parlamento europeo , interrumpido el viernes 17 de diciembre pasado , y reitero a sus senorias mi deseo de que hayan tenido unas buenas vacaciones . como todos han podido comprobar , el gran    efecto del ano 2000    no se ha producido . en cambio , los ciudadanos de varios de nuestros paises han sido victimas de catastrofes naturales verdaderamente terribles . sus senorias han solicitado un debate sobre el tema para los proximos dias , en el curso de este periodo de sesiones . a la espera de que se produzca , de acuerdo con muchos colegas que me lo\n"
     ]
    }
   ],
   "source": [
    "# Eliminamos los símbolos de puntuación que no nos serán útiles para identificar las oraciones (como unidad lingüistica mínima) en los términos de Manning, C. & Schütze (1999), página 134.\n",
    "# De tal forma que los símbolos que nos reservamos son: \".\", \"...\", \"?\", \"!\", \":\", \";\", \"-\" y '\"'.\n",
    "string_normalizado = string_no_acentos_minusc\n",
    "simbolos_eliminar = [' ',  \"\\n\", '`', \"'\",  '/', '%',  'ø', '\\xad', '+', 'μ', 'æ', 'ß', '_', '·', 'ð', '&', '=', '``',\"''\", \"`\"]\n",
    "\n",
    "for simbolo in simbolos_eliminar:\n",
    "    string_normalizado = string_normalizado.replace(simbolo, \" \")\n",
    "    \n",
    "print(string_normalizado[:600])\n",
    "\n"
   ]
  },
  {
   "cell_type": "code",
   "execution_count": 7,
   "id": "8b248c4d-d1b6-4f7b-a192-5db6e53b63fb",
   "metadata": {},
   "outputs": [
    {
     "name": "stderr",
     "output_type": "stream",
     "text": [
      "[nltk_data] Downloading package punkt to\n",
      "[nltk_data]     C:\\Users\\rodri\\AppData\\Roaming\\nltk_data...\n",
      "[nltk_data]   Package punkt is already up-to-date!\n"
     ]
    },
    {
     "data": {
      "text/plain": [
       "['<s> declaro reanudado el periodo de sesiones del parlamento europeo , interrumpido el viernes 17 de diciembre pasado , y reitero a sus senorias mi deseo de que hayan tenido unas buenas vacaciones . </s>',\n",
       " '<s> como todos han podido comprobar , el gran    efecto del ano 2000    no se ha producido . </s>',\n",
       " '<s> en cambio , los ciudadanos de varios de nuestros paises han sido victimas de catastrofes naturales verdaderamente terribles . </s>',\n",
       " '<s> sus senorias han solicitado un debate sobre el tema para los proximos dias , en el curso de este periodo de sesiones . </s>',\n",
       " '<s> a la espera de que se produzca , de acuerdo con muchos colegas que me lo han pedido , pido que hagamos un minuto de silencio en memoria de todas las victimas de las tormentas , en los distintos paises de la union europea afectados . </s>',\n",
       " '<s> invito a todos a que nos pongamos de pie para guardar un minuto de silencio . </s>']"
      ]
     },
     "execution_count": 7,
     "metadata": {},
     "output_type": "execute_result"
    }
   ],
   "source": [
    "# Se busca el modelo a partir la del documentación de NLTK\n",
    "\n",
    "nltk.download('punkt')\n",
    "\n",
    "# Se tokeniza el texto en oraciones icluyendo como símbolos de alto en las oraciones pre-establecidos en el módulo punkt '., '?' y '!'. \n",
    "# En todo caso considera como puntuación interna en una oración ', : '\n",
    "\n",
    "oraciones = nltk.sent_tokenize(string_normalizado, language='spanish')\n",
    "\n",
    "# A cada oración se incluye el marcador de incio y final\n",
    "oraciones_marcadas = []\n",
    "\n",
    "for oracion in oraciones:\n",
    "    oracion_marcada = \"<s> \" + oracion.strip() + \" </s>\"\n",
    "    oraciones_marcadas.append(oracion_marcada)\n",
    "\n",
    "# Veamos los 6 primeros tokens para fonfirmar\n",
    "oraciones_marcadas[:6]\n"
   ]
  },
  {
   "cell_type": "code",
   "execution_count": 8,
   "id": "a5a88748-8bb1-4f44-bdb1-8aea16da9a23",
   "metadata": {},
   "outputs": [
    {
     "name": "stdout",
     "output_type": "stream",
     "text": [
      "['<s>', 'declaro', 'reanudado', 'el', 'periodo', 'de', 'sesiones', 'del', 'parlamento', 'europeo', ',', 'interrumpido', 'el', 'viernes', '17', 'de', 'diciembre', 'pasado', ',', 'y', 'reitero', 'a', 'sus', 'senorias', 'mi', 'deseo', 'de', 'que', 'hayan', 'tenido', 'unas', 'buenas', 'vacaciones', '.', '</s>', '<s>', 'como', 'todos', 'han', 'podido', 'comprobar', ',', 'el', 'gran', 'efecto', 'del', 'ano', '2000', 'no', 'se', 'ha', 'producido', '.', '</s>', '<s>', 'en', 'cambio', ',', 'los', 'ciudadanos']\n"
     ]
    }
   ],
   "source": [
    "oraciones_spliteadas = [string.split() for string in oraciones_marcadas]\n",
    "flat_list = [palabra for oracion in oraciones_spliteadas for palabra in oracion]\n",
    "print(flat_list[:60])"
   ]
  },
  {
   "cell_type": "code",
   "execution_count": 9,
   "id": "2010afdc-5e95-4bb9-8613-cb0ae7956176",
   "metadata": {},
   "outputs": [
    {
     "name": "stdout",
     "output_type": "stream",
     "text": [
      "['<s>', 'declaro', 'reanudado', 'el', 'periodo', 'de', 'sesiones', 'del', 'parlamento', 'europeo', 'interrumpido', 'el', 'viernes', '17', 'de', 'diciembre', 'pasado', 'y', 'reitero', 'a', 'sus', 'senorias', 'mi', 'deseo', 'de', 'que', 'hayan', 'tenido', 'unas', 'buenas', 'vacaciones', '</s>', '<s>', 'como', 'todos', 'han', 'podido', 'comprobar', 'el', 'gran', 'efecto', 'del', 'ano', '2000', 'no', 'se', 'ha', 'producido', '</s>', '<s>', 'en', 'cambio', 'los', 'ciudadanos', 'de', 'varios', 'de', 'nuestros', 'paises', 'han']\n"
     ]
    }
   ],
   "source": [
    "# En virtud de lo anterior, ya no son necesarios los puntos, comas, signos de interrogación y admiración en el texto deconstruido, toda vez que tenemos los marcadores de final de palabra.\n",
    "\n",
    "simbolos_a_remover = ['.', '¿','?', ',', ';',':', '!', '¡']\n",
    "\n",
    "texto_final = [palabra for palabra in flat_list if palabra not in simbolos_a_remover]\n",
    "\n",
    "print(texto_final[:60])\n"
   ]
  },
  {
   "cell_type": "code",
   "execution_count": 10,
   "id": "9b6ac242-3c48-45a0-949b-2fb9eca12411",
   "metadata": {},
   "outputs": [],
   "source": [
    "from collections import defaultdict\n",
    "from nltk import bigrams\n",
    "\n",
    "# se crea un directorio para las probabilidades y otra para las frecuencias de cada bigrama\n",
    "# el defaultdict utiliza los valores de cada lista para hacer un diccionario\n",
    "bigram_counts = defaultdict(float)\n",
    "unigram_counts = defaultdict(float)\n",
    "\n",
    "# para excluir los markadores de cada oración del cálculo de probabilidades se filtra por bigrama de la siguiente forma\n",
    "por_bigrama = [(p1, p2) for p1, p2 in bigrams(texto_final) if p1 not in ['<s>', '</s>'] and p2 not in ['<s>', '</s>']]\n",
    "\n",
    "# Se cuentan los bigramas (C(xy)) y la primera palabra de los bigramas (C(x))\n",
    "for bigram in por_bigrama:\n",
    "    bigram_counts[bigram] += 1\n",
    "    unigram_counts[bigram[0]] += 1\n",
    "\n",
    "# Se crea el diccionario\n",
    "mle_prob = {}\n",
    "\n",
    "# Calculamos la probabilidad de cada bigrama como p(x|y) = C(xy)/c(x)\n",
    "for bigram in bigram_counts:\n",
    "    if unigram_counts[bigram[0]] > 0:\n",
    "        mle_prob[bigram] = bigram_counts[bigram] / unigram_counts[bigram[0]] #tenemos algunos ceros lo que se puede resolver mejor con MLE suavizado de Laplace\n",
    "    else:\n",
    "        mle_prob[bigram] = 0\n",
    "\n",
    "# definimos las keys para el respectivo diccionario\n",
    "keys_to_update = list(mle_prob.keys())\n",
    "\n",
    "# Actualizamos el MLE probabilidades\n",
    "for bigram in keys_to_update:\n",
    "    mle_prob[bigram] += 1\n",
    "    unigram_counts[bigram[0]] += 1\n",
    "    mle_prob[bigram] /= unigram_counts[bigram[0]] # Equivalente a mle_prob[bigram] = mle_prob[bigram] / contador_p1[bigram[0]] "
   ]
  },
  {
   "cell_type": "code",
   "execution_count": 11,
   "id": "82196119-89b9-4acd-b831-5fd15fc51ee6",
   "metadata": {},
   "outputs": [
    {
     "data": {
      "text/plain": [
       "[(('declaro', 'reanudado'), 0.016171993911719938),\n",
       " (('reanudado', 'el'), 0.10661764705882353),\n",
       " (('el', 'periodo'), 1.4900490578373517e-05),\n",
       " (('periodo', 'de'), 0.0020859333214476735),\n",
       " (('de', 'sesiones'), 5.7636475525803115e-06),\n",
       " (('sesiones', 'del'), 0.004910096818810512),\n",
       " (('del', 'parlamento'), 3.625573629471103e-05),\n",
       " (('parlamento', 'europeo'), 0.0002294027066284984),\n",
       " (('europeo', 'interrumpido'), 0.0002962928859537466),\n",
       " (('interrumpido', 'el'), 0.04038461538461539)]"
      ]
     },
     "execution_count": 11,
     "metadata": {},
     "output_type": "execute_result"
    }
   ],
   "source": [
    "# ¿Cómo se ve?\n",
    "\n",
    "mle_prob_aslist = list(mle_prob.items())\n",
    "mle_prob_aslist[:10]"
   ]
  },
  {
   "cell_type": "code",
   "execution_count": 12,
   "id": "909b2dea-7ee4-41ef-9a1f-be5165cf5fab",
   "metadata": {},
   "outputs": [],
   "source": [
    "# Serializando los resultados:\n",
    "# import pickle\n",
    "# archivo_nombre = \"mle_prob.pickle\"\n",
    "\n",
    "# with open(archivo_nombre, \"wb\") as archivo:\n",
    "#     pickle.dump(mle_prob_aslist, archivo) # serializa y escribe el archivo\n",
    "#     archivo.close()"
   ]
  },
  {
   "cell_type": "code",
   "execution_count": 13,
   "id": "dfb1b924-bea6-4c2e-a3a5-5b31582e9363",
   "metadata": {},
   "outputs": [
    {
     "data": {
      "text/plain": [
       "[(('declaro', 'reanudado'), 0.016171993911719938),\n",
       " (('reanudado', 'el'), 0.10661764705882353),\n",
       " (('el', 'periodo'), 1.4900490578373517e-05),\n",
       " (('periodo', 'de'), 0.0020859333214476735),\n",
       " (('de', 'sesiones'), 5.7636475525803115e-06)]"
      ]
     },
     "execution_count": 13,
     "metadata": {},
     "output_type": "execute_result"
    }
   ],
   "source": [
    "with open('mle_prob.pickle', 'rb') as archivo:\n",
    "    mle_prob_read = pickle.load(archivo)\n",
    "\n",
    "mle_prob_read[:5]"
   ]
  },
  {
   "cell_type": "markdown",
   "id": "0839eac6-bcb0-49a7-8b21-c9bd03763b7a",
   "metadata": {},
   "source": [
    "# Suavizamiento de Laplace"
   ]
  },
  {
   "cell_type": "code",
   "execution_count": 14,
   "id": "b82a6002-aafa-4a4b-8bbf-0ce7450c44dd",
   "metadata": {},
   "outputs": [],
   "source": [
    "# se crea un directorio para las probabilidades y otra para las frecuencias de cada bigrama\n",
    "# el defaultdict utiliza los valores de cada lista para hacer un diccionario\n",
    "bigram_counts = defaultdict(float)\n",
    "unigram_counts = defaultdict(float)\n",
    "\n",
    "# para excluir los markadores de cada oración del cálculo de probabilidades se filtra por bigrama de la siguiente forma\n",
    "por_bigrama = [(p1, p2) for p1, p2 in bigrams(texto_final) if p1 not in ['<s>', '</s>'] and p2 not in ['<s>', '</s>']]\n",
    "\n",
    "constante = 1 # factor de suavizamiento\n",
    "V = len(set(por_bigrama))\n",
    "\n",
    "# Se cuentan los bigramas (C(xy)) y la primera palabra de los bigramas (C(x))\n",
    "for bigram in por_bigrama:\n",
    "    bigram_counts[bigram] += 1\n",
    "    unigram_counts[bigram[0]] += 1\n",
    "\n",
    "# Se crea el diccionario\n",
    "mle_prob_laplace = {}\n",
    "\n",
    "# Calculamos la probabilidad de cada bigrama como p(x|y) = C(xy)/c(x)\n",
    "\n",
    "for bigram in bigram_counts:\n",
    "    numerator = bigram_counts[bigram] + constante\n",
    "    denominator = unigram_counts[bigram[0]] + V\n",
    "    mle_prob_laplace[bigram] = numerator / denominator\n",
    "    \n",
    "#  definimos las keys para el respectivo diccionario\n",
    "keys_to_update_laplace = list(mle_prob_laplace.keys())\n",
    "\n",
    "#  Actualizamos el MLE probabilidades suavizado\n",
    "for bigram in keys_to_update_laplace:\n",
    "    mle_prob_laplace[bigram] += 1\n",
    "    unigram_counts[bigram[0]] += 1\n",
    "    mle_prob_laplace[bigram] /= unigram_counts[bigram[0]] # Equivalente a mle_prob[bigram] = mle_prob[bigram] / contador_p1[bigram[0]] "
   ]
  },
  {
   "cell_type": "code",
   "execution_count": 15,
   "id": "1a22515a-6d83-48c7-a5b9-da8d53bd1ee6",
   "metadata": {},
   "outputs": [
    {
     "data": {
      "text/plain": [
       "[(('declaro', 'reanudado'), 0.013699005372895779),\n",
       " (('reanudado', 'el'), 0.058825140895473874),\n",
       " (('el', 'periodo'), 1.4852801949587804e-05),\n",
       " (('periodo', 'de'), 0.0014074152276635043),\n",
       " (('de', 'sesiones'), 5.758585482526461e-06),\n",
       " (('sesiones', 'del'), 0.004149742811178282),\n",
       " (('del', 'parlamento'), 3.4514203590983246e-05),\n",
       " (('parlamento', 'europeo'), 0.00017367080391960432),\n",
       " (('europeo', 'interrumpido'), 0.00029525399225530346),\n",
       " (('interrumpido', 'el'), 0.025001222945988832)]"
      ]
     },
     "execution_count": 15,
     "metadata": {},
     "output_type": "execute_result"
    }
   ],
   "source": [
    "# ¿Cómo se ve?\n",
    "\n",
    "mle_prob_aslist_laplace = list(mle_prob_laplace.items())\n",
    "mle_prob_aslist_laplace[:10]\n"
   ]
  },
  {
   "cell_type": "code",
   "execution_count": 16,
   "id": "043d5fe1-9b4b-45ba-8a4a-fbfc58cda081",
   "metadata": {},
   "outputs": [],
   "source": [
    "# # Serializando los resultados de laplace:\n",
    "# archivo_nombre = \"mle_prob_laplace.pickle\"\n",
    "\n",
    "# with open(archivo_nombre, \"wb\") as archivo:\n",
    "#     pickle.dump(mle_prob_aslist_laplace, archivo) # serializa y escribe el archivo\n",
    "#     archivo.close()"
   ]
  },
  {
   "cell_type": "code",
   "execution_count": 17,
   "id": "74d25a2a-390b-4d81-8422-c8439aa6a8e8",
   "metadata": {},
   "outputs": [
    {
     "data": {
      "text/plain": [
       "[(('declaro', 'reanudado'), 0.013699005372895779),\n",
       " (('reanudado', 'el'), 0.058825140895473874),\n",
       " (('el', 'periodo'), 1.4852801949587804e-05),\n",
       " (('periodo', 'de'), 0.0014074152276635043),\n",
       " (('de', 'sesiones'), 5.758585482526461e-06),\n",
       " (('sesiones', 'del'), 0.004149742811178282),\n",
       " (('del', 'parlamento'), 3.4514203590983246e-05),\n",
       " (('parlamento', 'europeo'), 0.00017367080391960432),\n",
       " (('europeo', 'interrumpido'), 0.00029525399225530346),\n",
       " (('interrumpido', 'el'), 0.025001222945988832)]"
      ]
     },
     "execution_count": 17,
     "metadata": {},
     "output_type": "execute_result"
    }
   ],
   "source": [
    "with open('mle_prob_laplace.pickle', 'rb') as archivo:\n",
    "    mle_prob_laplace_read = pickle.load(archivo)\n",
    "\n",
    "mle_prob_laplace_read[:10]"
   ]
  },
  {
   "cell_type": "markdown",
   "id": "64d96d10-f252-41d4-a9f1-27095125cc70",
   "metadata": {},
   "source": [
    "2. Calcular si la siguientes oraciones son posibles, es decir, calcular las probabilidades de las siguientes oraciones usando el modelo de MLE y MLE con suavizado de Laplace. Comparar las probabilidades.\n"
   ]
  },
  {
   "cell_type": "code",
   "execution_count": 18,
   "id": "1a817247-0654-4733-8a02-48e8e4614134",
   "metadata": {},
   "outputs": [
    {
     "data": {
      "text/plain": [
       "[[('el', 'parlamento'),\n",
       "  ('parlamento', 'debe'),\n",
       "  ('debe', 'enviar'),\n",
       "  ('enviar', 'un'),\n",
       "  ('un', 'mensaje')],\n",
       " [('el', 'parlamento'),\n",
       "  ('parlamento', 'debe'),\n",
       "  ('debe', 'enviar'),\n",
       "  ('enviar', 'un'),\n",
       "  ('un', 'consejo')]]"
      ]
     },
     "execution_count": 18,
     "metadata": {},
     "output_type": "execute_result"
    }
   ],
   "source": [
    "oraciones = [\"<s> el parlamento debe enviar un mensaje </s>\", \n",
    "             \"<s> el parlamento debe enviar un consejo </s>\", \n",
    "             \"<s> el abismo entre pobres y ricos </s>\", \n",
    "             \"<s> el abismo entre ricos y pobres </s>\", \n",
    "             \"<s> el abismo de la cantera entre pobres y ricos </s>\",\n",
    "             \"<s> la comisión debe ser totalmente transparente </s>\", \n",
    "             \"<s> la comisión debe ser transparente </s>\"]\n",
    "\n",
    "# vamos a tokenizar las oraciones a evaluar y obtener sus bigramas, eliminado los marcadores\n",
    "\n",
    "oraciones_no_markers = [string.replace(\"<s>\", \"\").replace(\"</s>\", \"\") for string in oraciones]\n",
    "\n",
    "bigramas_evaluar = []\n",
    "    \n",
    "for oracion in oraciones_no_markers:\n",
    "    palabras = oracion.split()\n",
    "    bi_tokens = list(bigrams(palabras))\n",
    "    bigramas_evaluar.append(bi_tokens)\n",
    "\n",
    "bigramas_evaluar[:2]\n"
   ]
  },
  {
   "cell_type": "code",
   "execution_count": 19,
   "id": "3c35928b-e085-4c1e-973c-151b75bc34a3",
   "metadata": {},
   "outputs": [
    {
     "data": {
      "text/plain": [
       "{('el', 'parlamento'): 1.54567890511996e-05,\n",
       " ('parlamento', 'debe'): 0.00017477495033538308,\n",
       " ('debe', 'enviar'): 0.00026983264484794567,\n",
       " ('enviar', 'un'): 0.012422360248447204,\n",
       " ('un', 'mensaje'): 4.3361177323396743e-05,\n",
       " ('un', 'consejo'): 4.287857836056767e-05,\n",
       " ('el', 'abismo'): 1.4825140380802275e-05,\n",
       " ('abismo', 'entre'): 0.05789473684210526,\n",
       " ('entre', 'pobres'): 0.00023485524981129889,\n",
       " ('pobres', 'y'): 0.0048984241503702295,\n",
       " ('y', 'ricos'): 1.5283058447547118e-05,\n",
       " ('entre', 'ricos'): 0.0002483856168201708,\n",
       " ('ricos', 'y'): 0.021152829190904287,\n",
       " ('y', 'pobres'): 1.634548095218921e-05,\n",
       " ('abismo', 'de'): 0.039473684210526314,\n",
       " ('de', 'la'): 6.781856874297818e-06,\n",
       " ('debe', 'ser'): 0.00031106008374918293,\n",
       " ('ser', 'totalmente'): 0.00023789001573085072,\n",
       " ('totalmente', 'transparente'): 0.0018456345715362934,\n",
       " ('ser', 'transparente'): 0.0002129760447906217}"
      ]
     },
     "execution_count": 19,
     "metadata": {},
     "output_type": "execute_result"
    }
   ],
   "source": [
    "probs = {}\n",
    "for sublist in bigramas_evaluar:\n",
    "    for bigram in sublist:\n",
    "        if bigram in mle_prob_read:\n",
    "            continue\n",
    "        for item in mle_prob_read:\n",
    "            if item[0] == bigram:\n",
    "                probs[bigram] = item[1]\n",
    "                break\n",
    "probs"
   ]
  },
  {
   "cell_type": "code",
   "execution_count": 20,
   "id": "650cf0d1-05e4-40ee-8fb7-305ef9d70fef",
   "metadata": {},
   "outputs": [],
   "source": [
    "mle_prob_read = dict(mle_prob_read)\n",
    "\n",
    "product_probs = []\n",
    "\n",
    "for sublist in bigramas_evaluar:\n",
    "    sublist_product = 1\n",
    "    for bigram in sublist:\n",
    "        sublist_product *= probs.get(bigram, mle_prob_read.get(bigram, 0))\n",
    "    product_probs.append(sublist_product)"
   ]
  },
  {
   "cell_type": "code",
   "execution_count": 21,
   "id": "f73d627c-1025-40f6-8527-2e543b8b664e",
   "metadata": {},
   "outputs": [
    {
     "data": {
      "text/plain": [
       "[3.9264325613875485e-19,\n",
       " 3.8827323576866336e-19,\n",
       " 1.50905418061912e-17,\n",
       " 7.37106954413135e-17,\n",
       " 0.0,\n",
       " 0.0,\n",
       " 0.0]"
      ]
     },
     "execution_count": 21,
     "metadata": {},
     "output_type": "execute_result"
    }
   ],
   "source": [
    "product_probs"
   ]
  },
  {
   "cell_type": "markdown",
   "id": "f4aaf7c7-a768-46cf-99ea-701e16487c5d",
   "metadata": {},
   "source": [
    "# Laplace"
   ]
  },
  {
   "cell_type": "code",
   "execution_count": 22,
   "id": "fb21ef57-171d-453a-90c9-a4f7cd30c068",
   "metadata": {},
   "outputs": [
    {
     "data": {
      "text/plain": [
       "{('el', 'parlamento'): 1.4916612114287642e-05,\n",
       " ('parlamento', 'debe'): 0.00017282350854723488,\n",
       " ('debe', 'enviar'): 0.0002696165465299377,\n",
       " ('enviar', 'un'): 0.010869862947859995,\n",
       " ('un', 'mensaje'): 4.325558294430708e-05,\n",
       " ('un', 'consejo'): 4.281660315764843e-05,\n",
       " ('el', 'abismo'): 1.4823415993608711e-05,\n",
       " ('abismo', 'entre'): 0.050000391358031936,\n",
       " ('entre', 'pobres'): 0.00023479781243209704,\n",
       " ('pobres', 'y'): 0.004348081215616629,\n",
       " ('y', 'ricos'): 1.5282861792743376e-05,\n",
       " ('entre', 'ricos'): 0.0002481413667173085,\n",
       " ('ricos', 'y'): 0.01612966342882379,\n",
       " ('y', 'pobres'): 1.6343120924760588e-05,\n",
       " ('abismo', 'de'): 0.03571449537037425,\n",
       " ('de', 'la'): 6.016617904267452e-06,\n",
       " ('debe', 'ser'): 0.0002698413111520401,\n",
       " ('ser', 'totalmente'): 0.00023730929193073374,\n",
       " ('totalmente', 'transparente'): 0.0018348767332703854,\n",
       " ('ser', 'transparente'): 0.00021276802284295084}"
      ]
     },
     "execution_count": 22,
     "metadata": {},
     "output_type": "execute_result"
    }
   ],
   "source": [
    "probs_laplace = {}\n",
    "for sublist in bigramas_evaluar:\n",
    "    for bigram in sublist:\n",
    "        if bigram in mle_prob_laplace_read:\n",
    "            continue\n",
    "        for item in mle_prob_laplace_read:\n",
    "            if item[0] == bigram:\n",
    "                probs_laplace[bigram] = item[1]\n",
    "                break\n",
    "probs_laplace"
   ]
  },
  {
   "cell_type": "code",
   "execution_count": 23,
   "id": "69e23579-c381-4ae1-ba1a-64f57ada41be",
   "metadata": {},
   "outputs": [],
   "source": [
    "mle_prob_laplace_read = dict(mle_prob_laplace_read)\n",
    "\n",
    "product_probs_laplace = []\n",
    "\n",
    "for sublist in bigramas_evaluar:\n",
    "    sublist_product = 1\n",
    "    for bigram in sublist:\n",
    "        sublist_product *= probs_laplace.get(bigram, mle_prob_laplace_read.get(bigram, 0))\n",
    "    product_probs_laplace.append(sublist_product)"
   ]
  },
  {
   "cell_type": "code",
   "execution_count": 24,
   "id": "eea646b2-7f9d-4dfe-bcd0-4be13b6a9253",
   "metadata": {},
   "outputs": [
    {
     "data": {
      "text/plain": [
       "[3.268028185488032e-19,\n",
       " 3.2348625634339475e-19,\n",
       " 1.1564266183847993e-17,\n",
       " 4.848207168681393e-17,\n",
       " 0.0,\n",
       " 0.0,\n",
       " 0.0]"
      ]
     },
     "execution_count": 24,
     "metadata": {},
     "output_type": "execute_result"
    }
   ],
   "source": [
    "product_probs_laplace"
   ]
  },
  {
   "cell_type": "code",
   "execution_count": 25,
   "id": "6949a4c7-ce12-441a-a2f7-42dd4fe5fb7f",
   "metadata": {},
   "outputs": [
    {
     "data": {
      "text/html": [
       "<div>\n",
       "<style scoped>\n",
       "    .dataframe tbody tr th:only-of-type {\n",
       "        vertical-align: middle;\n",
       "    }\n",
       "\n",
       "    .dataframe tbody tr th {\n",
       "        vertical-align: top;\n",
       "    }\n",
       "\n",
       "    .dataframe thead th {\n",
       "        text-align: right;\n",
       "    }\n",
       "</style>\n",
       "<table border=\"1\" class=\"dataframe\">\n",
       "  <thead>\n",
       "    <tr style=\"text-align: right;\">\n",
       "      <th></th>\n",
       "      <th>Oraciones</th>\n",
       "      <th>MLE</th>\n",
       "      <th>MLE Suavizado Laplace</th>\n",
       "    </tr>\n",
       "  </thead>\n",
       "  <tbody>\n",
       "    <tr>\n",
       "      <th>4</th>\n",
       "      <td>&lt;s&gt; el abismo de la cantera entre pobres y ric...</td>\n",
       "      <td>0.000000e+00</td>\n",
       "      <td>0.000000e+00</td>\n",
       "    </tr>\n",
       "    <tr>\n",
       "      <th>5</th>\n",
       "      <td>&lt;s&gt; la comisión debe ser totalmente transparen...</td>\n",
       "      <td>0.000000e+00</td>\n",
       "      <td>0.000000e+00</td>\n",
       "    </tr>\n",
       "    <tr>\n",
       "      <th>6</th>\n",
       "      <td>&lt;s&gt; la comisión debe ser transparente &lt;/s&gt;</td>\n",
       "      <td>0.000000e+00</td>\n",
       "      <td>0.000000e+00</td>\n",
       "    </tr>\n",
       "    <tr>\n",
       "      <th>1</th>\n",
       "      <td>&lt;s&gt; el parlamento debe enviar un consejo &lt;/s&gt;</td>\n",
       "      <td>3.882732e-19</td>\n",
       "      <td>3.234863e-19</td>\n",
       "    </tr>\n",
       "    <tr>\n",
       "      <th>0</th>\n",
       "      <td>&lt;s&gt; el parlamento debe enviar un mensaje &lt;/s&gt;</td>\n",
       "      <td>3.926433e-19</td>\n",
       "      <td>3.268028e-19</td>\n",
       "    </tr>\n",
       "    <tr>\n",
       "      <th>2</th>\n",
       "      <td>&lt;s&gt; el abismo entre pobres y ricos &lt;/s&gt;</td>\n",
       "      <td>1.509054e-17</td>\n",
       "      <td>1.156427e-17</td>\n",
       "    </tr>\n",
       "    <tr>\n",
       "      <th>3</th>\n",
       "      <td>&lt;s&gt; el abismo entre ricos y pobres &lt;/s&gt;</td>\n",
       "      <td>7.371070e-17</td>\n",
       "      <td>4.848207e-17</td>\n",
       "    </tr>\n",
       "  </tbody>\n",
       "</table>\n",
       "</div>"
      ],
      "text/plain": [
       "                                           Oraciones           MLE  \\\n",
       "4  <s> el abismo de la cantera entre pobres y ric...  0.000000e+00   \n",
       "5  <s> la comisión debe ser totalmente transparen...  0.000000e+00   \n",
       "6         <s> la comisión debe ser transparente </s>  0.000000e+00   \n",
       "1      <s> el parlamento debe enviar un consejo </s>  3.882732e-19   \n",
       "0      <s> el parlamento debe enviar un mensaje </s>  3.926433e-19   \n",
       "2            <s> el abismo entre pobres y ricos </s>  1.509054e-17   \n",
       "3            <s> el abismo entre ricos y pobres </s>  7.371070e-17   \n",
       "\n",
       "   MLE Suavizado Laplace  \n",
       "4           0.000000e+00  \n",
       "5           0.000000e+00  \n",
       "6           0.000000e+00  \n",
       "1           3.234863e-19  \n",
       "0           3.268028e-19  \n",
       "2           1.156427e-17  \n",
       "3           4.848207e-17  "
      ]
     },
     "execution_count": 25,
     "metadata": {},
     "output_type": "execute_result"
    }
   ],
   "source": [
    "df = pd.DataFrame({'Oraciones':oraciones,'MLE':product_probs, 'MLE Suavizado Laplace':product_probs_laplace})\n",
    "df = df.sort_values(by='MLE', ascending=True)\n",
    "df"
   ]
  },
  {
   "cell_type": "code",
   "execution_count": 26,
   "id": "0cdee1b6-9225-403b-9c3a-f9edcfdcb606",
   "metadata": {},
   "outputs": [
    {
     "data": {
      "image/png": "[encoded data removed]",
      "text/plain": [
       "<Figure size 1000x600 with 1 Axes>"
      ]
     },
     "metadata": {},
     "output_type": "display_data"
    }
   ],
   "source": [
    "fig, ax = plt.subplots(figsize=(10, 6))\n",
    "plt.plot(df['MLE'], df['Oraciones'], label='MLE')\n",
    "plt.plot(df['MLE Suavizado Laplace'], df['Oraciones'], label= 'MLE Suavizado Laplace')\n",
    "plt.legend(loc='best') \n",
    "plt.title('¿Qué oraciones son más probables dada la información disponible en el texto \\ny qué diferencias hay entre cada modelo?')\n",
    "plt.xlabel('Probabilidad')\n",
    "plt.ylabel('Oraciones')\n",
    "plt.savefig(\"MLEvsMLELAP.png\", dpi=300, bbox_inches='tight')\n",
    "plt.show()"
   ]
  },
  {
   "cell_type": "markdown",
   "id": "480b5da6-43af-42d3-955a-69491658dace",
   "metadata": {},
   "source": [
    "# 3. Predicción de palabras, dada una palabra inicial mostrar las siguientes cinco palabras más probables de acuerdo con los modelos MLE y MLE con suavizado de Laplace."
   ]
  },
  {
   "cell_type": "code",
   "execution_count": 27,
   "id": "db33b985-ac37-46fd-a1a9-3be5148aff64",
   "metadata": {},
   "outputs": [],
   "source": [
    "def pronostico_interactivo(bigram_dict):\n",
    "    palabra_actual = ''\n",
    "    \n",
    "    while palabra_actual != 'salir':\n",
    "        palabra_actual = input('Incluye la palabra a buscar (escriba \"salir\" para detener el servicio): ') # Creamos in input para que el usuario incluya su palabra\n",
    "        if palabra_actual == 'salir':\n",
    "            break\n",
    "            \n",
    "        candidatos = [] # creamos la lista de palabras candidatas\n",
    "        \n",
    "        for bigram, prob in bigram_dict.items():\n",
    "            if palabra_actual == bigram[0]:\n",
    "                candidatos.append((bigram[1], prob)) \n",
    "        \n",
    "        if not candidatos:\n",
    "            print(f\"No se encontraron palabras relacionadas para la palabra elegida {palabra_actual}\")\n",
    "        \n",
    "        else:\n",
    "            \n",
    "            ordenar_candidatos = sorted(candidatos, key=lambda x: -x[1])\n",
    "            print(f\"Las cinco palabras con mayor probabilidad de estar asociadas con la plabra '{palabra_actual}' son:\")\n",
    "            \n",
    "            for candidato, prob in ordenar_candidatos[:5]:\n",
    "                print(f\"  '{candidato}' -> P({candidato}|{palabra_actual}) = {prob:.2e}\")"
   ]
  },
  {
   "cell_type": "markdown",
   "id": "c6f42e25-2c8c-4410-aec6-e6d7b7fc3470",
   "metadata": {},
   "source": [
    "# Probando en MLE suavidado Laplace la función interactiva"
   ]
  },
  {
   "cell_type": "code",
   "execution_count": null,
   "id": "a896cf9d-e454-467b-ae1f-f23fd52f699a",
   "metadata": {},
   "outputs": [
    {
     "name": "stdin",
     "output_type": "stream",
     "text": [
      "Incluye la palabra a buscar (escriba \"salir\" para detener el servicio):  pobres\n"
     ]
    },
    {
     "name": "stdout",
     "output_type": "stream",
     "text": [
      "Las cinco palabras con mayor probabilidad de estar asociadas con la plabra 'pobres' son:\n",
      "  'y' -> P(y|pobres) = 4.35e-03\n",
      "  'de' -> P(de|pobres) = 4.33e-03\n",
      "  'siguen' -> P(siguen|pobres) = 4.31e-03\n",
      "  'entre' -> P(entre|pobres) = 4.29e-03\n",
      "  'suplen' -> P(suplen|pobres) = 4.27e-03\n"
     ]
    },
    {
     "name": "stdin",
     "output_type": "stream",
     "text": [
      "Incluye la palabra a buscar (escriba \"salir\" para detener el servicio):  y\n"
     ]
    },
    {
     "name": "stdout",
     "output_type": "stream",
     "text": [
      "Las cinco palabras con mayor probabilidad de estar asociadas con la plabra 'y' son:\n",
      "  'de' -> P(de|y) = 1.65e-05\n",
      "  'la' -> P(la|y) = 1.65e-05\n",
      "  'que' -> P(que|y) = 1.64e-05\n",
      "  'el' -> P(el|y) = 1.64e-05\n",
      "  'en' -> P(en|y) = 1.64e-05\n"
     ]
    }
   ],
   "source": [
    "pronostico_interactivo(mle_prob_laplace_read)"
   ]
  },
  {
   "cell_type": "markdown",
   "id": "cae26213-546f-4f7e-9af9-44078cc45373",
   "metadata": {},
   "source": [
    "# Probando MLE en la función interactiva"
   ]
  },
  {
   "cell_type": "code",
   "execution_count": null,
   "id": "8866b40e-216a-47f3-96dd-c74e9510f5dd",
   "metadata": {},
   "outputs": [],
   "source": [
    "pronostico_interactivo(mle_prob_read)"
   ]
  },
  {
   "cell_type": "markdown",
   "id": "68a102a1-a081-4147-bf4c-be76f20960e4",
   "metadata": {},
   "source": [
    "# Probar con el inicio de la palabra \"la\"\n",
    "# Probar con el inicio de la palabra \"parlamento\""
   ]
  },
  {
   "cell_type": "code",
   "execution_count": null,
   "id": "b362965a-40c0-456e-ba9d-c964d5d7c116",
   "metadata": {},
   "outputs": [],
   "source": [
    "# Primero MLE \n",
    "pronostico_interactivo(mle_prob_read)"
   ]
  },
  {
   "cell_type": "code",
   "execution_count": null,
   "id": "31c08ca4-082b-48e6-a53b-70f02b932243",
   "metadata": {},
   "outputs": [],
   "source": [
    "# Segundo con MLE Suavizado Laplace\n",
    "pronostico_interactivo(mle_prob_laplace_read)"
   ]
  },
  {
   "cell_type": "markdown",
   "id": "589ee1e8-6238-415d-ac05-b34a6bcf40a5",
   "metadata": {},
   "source": [
    "# Incluir 3 ejemplos para demostrar sus modelos de predicción \"interactiva\". "
   ]
  },
  {
   "cell_type": "code",
   "execution_count": null,
   "id": "3d0bcd6d-6e56-4603-9233-0d7d5059a344",
   "metadata": {},
   "outputs": [],
   "source": [
    "pronostico_interactivo_interactivo(mle_prob_read)"
   ]
  },
  {
   "cell_type": "markdown",
   "id": "9c0a26ab-f082-431b-8beb-4c8e060a4d58",
   "metadata": {},
   "source": [
    "<span style=\"color:DarkGreen; font-size: 30px;\">Conclusiones</span>"
   ]
  },
  {
   "cell_type": "markdown",
   "id": "10c8e06a-dcdb-4a0a-bfae-679b73e6d949",
   "metadata": {},
   "source": [
    "1. Salvo su mejor opinión, creo que los pronósticos elaborados con base en las probabilidades conjuntas de los bigramas en el texto son relativamente buenos en la medida que nos proporcionan un resultado esperado en función de la naturaleza del texto que sierve como base.\n",
    "\n",
    "2. Con los modelos creados y probados para las oraciones específicas, se confirma que el suavizamiento de Laplace no cambia la estructura de la distribución de probabilidades, pero las reduce (suaviza), tomando en cuenta que la base (denominador) de la fórmula de probabilidades aumenta y se ajusta considerablemente en función del tamaño del texto; atendiendo de mejor manera a aquellas palabras con menor proababilidad.\n",
    "\n",
    "<center>\n",
    "  <img src=\"MLEvsMLELAP.png\" alt=\"image\">\n",
    "</center>\n",
    "\n",
    "3. Me quedé con ganas de hacer una función interactiva para trigramas, pero ya no hay tiempo. \n",
    "\n",
    "4. Gracias, excelente actividad, aunque me faya aún mi código y los hago muy largos.\n",
    "\n"
   ]
  },
  {
   "cell_type": "markdown",
   "id": "87d19845-02c4-4492-be6f-1681ee9d11dd",
   "metadata": {},
   "source": [
    "### Bibliografía y referencias electrónicas\n",
    "\n",
    "- Library NLTK para entender el método sent_tokenize y el módulo PunktSentenceTokenizer. Disponible en: https://www.nltk.org/api/nltk.tokenize.html y en https://www.nltk.org/api/nltk.tokenize.punkt.html#:~:text=Punkt%20Sentence%20Tokenizer,before%20it%20can%20be%20used. \n",
    "- Using List as default_factory en Geek for Geeks. Disponible en: https://www.geeksforgeeks.org/defaultdict-in-python/.\n",
    "- Information entropy | Journey into information theory | Computer Science | Khan Academy: https://youtu.be/2s3aJfRr9gE\n",
    "- Jurafsky, D. & Martin, J.H. (2008). Speech and Language Processing. Prentice Hall, Segunda Edición.\n",
    "- Manning, C. & Schütze, H. (1999). Foundations of Statistical Natural Language Processing, MIT Press. Cambridge, MA. \n",
    "- Chen, R.,  Haitao L. & Altmann, G. (2016). Entropy in different text types. Digital Scholarship in the Humanities, vol. 32, Issue 3, pp. 528–542.\n",
    "- Text Normalization for Natural Language Processing in Python. Disponible en: https://lvngd.com/blog/text-normalization-natural-language-processing-python/\n"
   ]
  },
  {
   "cell_type": "code",
   "execution_count": null,
   "id": "e0db7a74-0887-4fd9-949b-a3278daaaa75",
   "metadata": {},
   "outputs": [],
   "source": [
    "(1835-0)/3338.11"
   ]
  }
 ],
 "metadata": {
  "kernelspec": {
   "display_name": "Python 3 (ipykernel)",
   "language": "python",
   "name": "python3"
  },
  "language_info": {
   "codemirror_mode": {
    "name": "ipython",
    "version": 3
   },
   "file_extension": ".py",
   "mimetype": "text/x-python",
   "name": "python",
   "nbconvert_exporter": "python",
   "pygments_lexer": "ipython3",
   "version": "3.8.15"
  }
 },
 "nbformat": 4,
 "nbformat_minor": 5
}
